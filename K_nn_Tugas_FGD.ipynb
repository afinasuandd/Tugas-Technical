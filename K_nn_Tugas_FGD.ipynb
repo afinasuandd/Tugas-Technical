{
  "cells": [
    {
      "cell_type": "markdown",
      "metadata": {
        "id": "view-in-github",
        "colab_type": "text"
      },
      "source": [
        "<a href=\"https://colab.research.google.com/github/afinasuandd/Tugas-Technical/blob/main/K_nn_Tugas_FGD.ipynb\" target=\"_parent\"><img src=\"https://colab.research.google.com/assets/colab-badge.svg\" alt=\"Open In Colab\"/></a>"
      ]
    },
    {
      "cell_type": "markdown",
      "id": "78dcb097",
      "metadata": {
        "id": "78dcb097"
      },
      "source": [
        "# Load Data Set"
      ]
    },
    {
      "cell_type": "code",
      "execution_count": null,
      "id": "7ddd2fcd",
      "metadata": {
        "id": "7ddd2fcd"
      },
      "outputs": [],
      "source": [
        "import numpy as np\n",
        "import matplotlib.pyplot as plt\n",
        "from matplotlib.ticker import NullFormatter\n",
        "import pandas as pd\n",
        "import numpy as np\n",
        "import matplotlib.ticker as ticker\n",
        "from sklearn import preprocessing\n",
        "%matplotlib inline"
      ]
    },
    {
      "cell_type": "code",
      "execution_count": null,
      "id": "3280f3a3",
      "metadata": {
        "id": "3280f3a3",
        "outputId": "78982818-89c0-4ac0-bbef-5bd163bf6b1a"
      },
      "outputs": [
        {
          "data": {
            "text/html": [
              "<div>\n",
              "<style scoped>\n",
              "    .dataframe tbody tr th:only-of-type {\n",
              "        vertical-align: middle;\n",
              "    }\n",
              "\n",
              "    .dataframe tbody tr th {\n",
              "        vertical-align: top;\n",
              "    }\n",
              "\n",
              "    .dataframe thead th {\n",
              "        text-align: right;\n",
              "    }\n",
              "</style>\n",
              "<table border=\"1\" class=\"dataframe\">\n",
              "  <thead>\n",
              "    <tr style=\"text-align: right;\">\n",
              "      <th></th>\n",
              "      <th>Credit Status</th>\n",
              "      <th>Gender</th>\n",
              "      <th>marital status</th>\n",
              "      <th>Age (years)</th>\n",
              "      <th>Type of apartment</th>\n",
              "      <th>Occupation</th>\n",
              "      <th>number of dependants</th>\n",
              "      <th>Telephone</th>\n",
              "      <th>Foreign Worker</th>\n",
              "      <th>Account Balance</th>\n",
              "      <th>Duration of Credit (month)</th>\n",
              "      <th>Credit Amount</th>\n",
              "      <th>Length of current employment (month)</th>\n",
              "      <th>Instalment per cent</th>\n",
              "    </tr>\n",
              "  </thead>\n",
              "  <tbody>\n",
              "    <tr>\n",
              "      <th>0</th>\n",
              "      <td>0.0</td>\n",
              "      <td>male</td>\n",
              "      <td>married</td>\n",
              "      <td>41.0</td>\n",
              "      <td>2.0</td>\n",
              "      <td>2.0</td>\n",
              "      <td>2.0</td>\n",
              "      <td>1.0</td>\n",
              "      <td>1.0</td>\n",
              "      <td>2.0</td>\n",
              "      <td>12.0</td>\n",
              "      <td>881.0</td>\n",
              "      <td>120.0</td>\n",
              "      <td>14.769157</td>\n",
              "    </tr>\n",
              "    <tr>\n",
              "      <th>1</th>\n",
              "      <td>0.0</td>\n",
              "      <td>male</td>\n",
              "      <td>single</td>\n",
              "      <td>33.0</td>\n",
              "      <td>2.0</td>\n",
              "      <td>3.0</td>\n",
              "      <td>7.0</td>\n",
              "      <td>1.0</td>\n",
              "      <td>1.0</td>\n",
              "      <td>1.0</td>\n",
              "      <td>18.0</td>\n",
              "      <td>1138.0</td>\n",
              "      <td>0.0</td>\n",
              "      <td>12.522755</td>\n",
              "    </tr>\n",
              "    <tr>\n",
              "      <th>2</th>\n",
              "      <td>0.0</td>\n",
              "      <td>male</td>\n",
              "      <td>married</td>\n",
              "      <td>26.0</td>\n",
              "      <td>2.0</td>\n",
              "      <td>3.0</td>\n",
              "      <td>7.0</td>\n",
              "      <td>1.0</td>\n",
              "      <td>1.0</td>\n",
              "      <td>1.0</td>\n",
              "      <td>21.0</td>\n",
              "      <td>3414.0</td>\n",
              "      <td>7.0</td>\n",
              "      <td>24.279633</td>\n",
              "    </tr>\n",
              "    <tr>\n",
              "      <th>3</th>\n",
              "      <td>1.0</td>\n",
              "      <td>male</td>\n",
              "      <td>married</td>\n",
              "      <td>48.0</td>\n",
              "      <td>2.0</td>\n",
              "      <td>2.0</td>\n",
              "      <td>5.0</td>\n",
              "      <td>1.0</td>\n",
              "      <td>1.0</td>\n",
              "      <td>2.0</td>\n",
              "      <td>24.0</td>\n",
              "      <td>1729.0</td>\n",
              "      <td>98.0</td>\n",
              "      <td>14.033694</td>\n",
              "    </tr>\n",
              "    <tr>\n",
              "      <th>4</th>\n",
              "      <td>1.0</td>\n",
              "      <td>male</td>\n",
              "      <td>married</td>\n",
              "      <td>25.0</td>\n",
              "      <td>2.0</td>\n",
              "      <td>3.0</td>\n",
              "      <td>5.0</td>\n",
              "      <td>2.0</td>\n",
              "      <td>1.0</td>\n",
              "      <td>4.0</td>\n",
              "      <td>24.0</td>\n",
              "      <td>1265.0</td>\n",
              "      <td>72.0</td>\n",
              "      <td>19.085431</td>\n",
              "    </tr>\n",
              "  </tbody>\n",
              "</table>\n",
              "</div>"
            ],
            "text/plain": [
              "   Credit Status Gender marital status  Age (years)  Type of apartment  \\\n",
              "0            0.0   male        married         41.0                2.0   \n",
              "1            0.0   male         single         33.0                2.0   \n",
              "2            0.0   male        married         26.0                2.0   \n",
              "3            1.0   male        married         48.0                2.0   \n",
              "4            1.0   male        married         25.0                2.0   \n",
              "\n",
              "   Occupation  number of dependants  Telephone  Foreign Worker  \\\n",
              "0         2.0                   2.0        1.0             1.0   \n",
              "1         3.0                   7.0        1.0             1.0   \n",
              "2         3.0                   7.0        1.0             1.0   \n",
              "3         2.0                   5.0        1.0             1.0   \n",
              "4         3.0                   5.0        2.0             1.0   \n",
              "\n",
              "   Account Balance  Duration of Credit (month)  Credit Amount  \\\n",
              "0              2.0                        12.0          881.0   \n",
              "1              1.0                        18.0         1138.0   \n",
              "2              1.0                        21.0         3414.0   \n",
              "3              2.0                        24.0         1729.0   \n",
              "4              4.0                        24.0         1265.0   \n",
              "\n",
              "   Length of current employment (month)  Instalment per cent  \n",
              "0                                 120.0            14.769157  \n",
              "1                                   0.0            12.522755  \n",
              "2                                   7.0            24.279633  \n",
              "3                                  98.0            14.033694  \n",
              "4                                  72.0            19.085431  "
            ]
          },
          "execution_count": 18,
          "metadata": {},
          "output_type": "execute_result"
        }
      ],
      "source": [
        "df = pd.read_excel('data tugas klasifikasi alanturing.xlsx')\n",
        "df.head()"
      ]
    },
    {
      "cell_type": "markdown",
      "id": "40f211cc",
      "metadata": {
        "id": "40f211cc"
      },
      "source": [
        "# Visualisasi dan Analisis Data"
      ]
    },
    {
      "cell_type": "code",
      "execution_count": null,
      "id": "5ec663a1",
      "metadata": {
        "id": "5ec663a1",
        "outputId": "4d124454-b1d5-4d01-f971-7a2fb56ff3bc"
      },
      "outputs": [
        {
          "data": {
            "text/plain": [
              "26.0    32\n",
              "23.0    31\n",
              "24.0    30\n",
              "28.0    29\n",
              "29.0    28\n",
              "25.0    28\n",
              "35.0    28\n",
              "34.0    26\n",
              "27.0    24\n",
              "30.0    23\n",
              "33.0    23\n",
              "31.0    23\n",
              "36.0    22\n",
              "32.0    20\n",
              "37.0    19\n",
              "22.0    18\n",
              "40.0    16\n",
              "41.0    14\n",
              "47.0    13\n",
              "43.0    12\n",
              "45.0    12\n",
              "38.0    12\n",
              "39.0    12\n",
              "44.0    11\n",
              "42.0    11\n",
              "21.0    10\n",
              "46.0    10\n",
              "48.0     9\n",
              "20.0     9\n",
              "54.0     7\n",
              "49.0     7\n",
              "51.0     6\n",
              "52.0     6\n",
              "61.0     5\n",
              "55.0     5\n",
              "63.0     5\n",
              "60.0     5\n",
              "50.0     5\n",
              "66.0     4\n",
              "53.0     4\n",
              "57.0     4\n",
              "65.0     3\n",
              "56.0     2\n",
              "74.0     2\n",
              "58.0     2\n",
              "68.0     2\n",
              "64.0     1\n",
              "75.0     1\n",
              "62.0     1\n",
              "59.0     1\n",
              "70.0     1\n",
              "Name: Age (years), dtype: int64"
            ]
          },
          "execution_count": 19,
          "metadata": {},
          "output_type": "execute_result"
        }
      ],
      "source": [
        "df['Age (years)'].value_counts()"
      ]
    },
    {
      "cell_type": "markdown",
      "id": "d3de4e7d",
      "metadata": {
        "id": "d3de4e7d"
      },
      "source": [
        "# Histogram Data"
      ]
    },
    {
      "cell_type": "code",
      "execution_count": null,
      "id": "f7b7e372",
      "metadata": {
        "id": "f7b7e372",
        "outputId": "ae59d780-17a8-4413-dd96-c2a560e84289"
      },
      "outputs": [
        {
          "data": {
            "text/plain": [
              "array([[<AxesSubplot:title={'center':'Credit Amount'}>]], dtype=object)"
            ]
          },
          "execution_count": 20,
          "metadata": {},
          "output_type": "execute_result"
        },
        {
          "data": {
            "image/png": "[encoded data removed]",
            "text/plain": [
              "<Figure size 432x288 with 1 Axes>"
            ]
          },
          "metadata": {
            "needs_background": "light"
          },
          "output_type": "display_data"
        }
      ],
      "source": [
        "df.hist(column='Credit Amount', bins=50)"
      ]
    },
    {
      "cell_type": "markdown",
      "id": "f7e33c66",
      "metadata": {
        "id": "f7e33c66"
      },
      "source": [
        "# Feature Set"
      ]
    },
    {
      "cell_type": "code",
      "execution_count": null,
      "id": "432f6987",
      "metadata": {
        "id": "432f6987",
        "outputId": "e061cb6b-dd7c-4855-f250-22dc927cffb8"
      },
      "outputs": [
        {
          "data": {
            "text/plain": [
              "Index(['Credit Status', 'Gender', 'marital status', 'Age (years)',\n",
              "       'Type of apartment', 'Occupation', 'number of dependants', 'Telephone',\n",
              "       'Foreign Worker', 'Account Balance', 'Duration of Credit (month)',\n",
              "       'Credit Amount', 'Length of current employment (month)',\n",
              "       'Instalment per cent'],\n",
              "      dtype='object')"
            ]
          },
          "execution_count": 21,
          "metadata": {},
          "output_type": "execute_result"
        }
      ],
      "source": [
        "df.columns"
      ]
    },
    {
      "cell_type": "code",
      "execution_count": null,
      "id": "6af77c5f",
      "metadata": {
        "id": "6af77c5f",
        "outputId": "f4478a91-0d25-4e84-e3b3-2594ab8eb9ec"
      },
      "outputs": [
        {
          "data": {
            "text/plain": [
              "array([[  41.,  881.],\n",
              "       [  33., 1138.],\n",
              "       [  26., 3414.],\n",
              "       [  48., 1729.],\n",
              "       [  25., 1265.]])"
            ]
          },
          "execution_count": 22,
          "metadata": {},
          "output_type": "execute_result"
        }
      ],
      "source": [
        "X = df[['Age (years)', 'Credit Amount']] .values  #.astype(float)\n",
        "X[0:5]"
      ]
    },
    {
      "cell_type": "code",
      "execution_count": null,
      "id": "aef541c0",
      "metadata": {
        "id": "aef541c0",
        "outputId": "b054fdbd-d5a2-41cb-ec88-f853443604d6"
      },
      "outputs": [
        {
          "data": {
            "text/plain": [
              "array([[  41.,  881.],\n",
              "       [  33., 1138.],\n",
              "       [  26., 3414.],\n",
              "       [  48., 1729.],\n",
              "       [  25., 1265.]])"
            ]
          },
          "execution_count": 23,
          "metadata": {},
          "output_type": "execute_result"
        }
      ],
      "source": [
        "y = df['Credit Status']\n",
        "X[0:5] "
      ]
    },
    {
      "cell_type": "markdown",
      "id": "793d62b9",
      "metadata": {
        "id": "793d62b9"
      },
      "source": [
        "# Normalisasi Data"
      ]
    },
    {
      "cell_type": "code",
      "execution_count": null,
      "id": "beeac79f",
      "metadata": {
        "id": "beeac79f",
        "outputId": "65138c5e-184f-4ccc-bbbe-80a53a90c935"
      },
      "outputs": [
        {
          "data": {
            "text/plain": [
              "array([[ 0.51921349, -0.86895052],\n",
              "       [-0.20386471, -0.78124036],\n",
              "       [-0.83655814, -0.00447653],\n",
              "       [ 1.15190692, -0.57954115],\n",
              "       [-0.92694292, -0.73789722]])"
            ]
          },
          "execution_count": 24,
          "metadata": {},
          "output_type": "execute_result"
        }
      ],
      "source": [
        "X = preprocessing.StandardScaler().fit(X).transform(X.astype(float))\n",
        "X[0:5]"
      ]
    },
    {
      "cell_type": "markdown",
      "id": "ffc8e7f4",
      "metadata": {
        "id": "ffc8e7f4"
      },
      "source": [
        "# Pembagian Data Training dan Testing"
      ]
    },
    {
      "cell_type": "code",
      "execution_count": null,
      "id": "ae598139",
      "metadata": {
        "id": "ae598139",
        "outputId": "5d2ae2b7-3a5b-4366-cd55-764d357322c3"
      },
      "outputs": [
        {
          "name": "stdout",
          "output_type": "stream",
          "text": [
            "Train set: (507, 2) (507,)\n",
            "Test set: (127, 2) (127,)\n"
          ]
        }
      ],
      "source": [
        "from sklearn.model_selection import train_test_split\n",
        "X_train, X_test, y_train, y_test = train_test_split( X, y, test_size=0.2, random_state=4)\n",
        "print ('Train set:', X_train.shape,  y_train.shape)\n",
        "print ('Test set:', X_test.shape,  y_test.shape)"
      ]
    },
    {
      "cell_type": "markdown",
      "id": "5c626458",
      "metadata": {
        "id": "5c626458"
      },
      "source": [
        "# Klasifikasi\n",
        "\n",
        "**K nearest neighbor (K-NN)**"
      ]
    },
    {
      "cell_type": "code",
      "execution_count": null,
      "id": "fee70283",
      "metadata": {
        "id": "fee70283"
      },
      "outputs": [],
      "source": [
        "from sklearn.neighbors import KNeighborsClassifier"
      ]
    },
    {
      "cell_type": "markdown",
      "id": "b864d697",
      "metadata": {
        "id": "b864d697"
      },
      "source": [
        "# Training"
      ]
    },
    {
      "cell_type": "code",
      "execution_count": null,
      "id": "899e07c5",
      "metadata": {
        "id": "899e07c5",
        "outputId": "6e800c6e-dfdf-48d3-9759-c3b10c59344f"
      },
      "outputs": [
        {
          "data": {
            "text/plain": [
              "KNeighborsClassifier(n_neighbors=3)"
            ]
          },
          "execution_count": 31,
          "metadata": {},
          "output_type": "execute_result"
        }
      ],
      "source": [
        "k = 3\n",
        "#Train Model and Predict  \n",
        "knn = KNeighborsClassifier(n_neighbors = k).fit(X_train,y_train)\n",
        "knn"
      ]
    },
    {
      "cell_type": "markdown",
      "id": "68dac651",
      "metadata": {
        "id": "68dac651"
      },
      "source": [
        "# Predicting"
      ]
    },
    {
      "cell_type": "code",
      "execution_count": null,
      "id": "c5c52818",
      "metadata": {
        "id": "c5c52818",
        "outputId": "00011e04-96ae-44b0-9e69-75942dba83c2"
      },
      "outputs": [
        {
          "data": {
            "text/plain": [
              "array([1., 1., 1., 1., 0., 0., 0., 0., 0., 0., 0., 1., 1., 0., 0., 0., 0.,\n",
              "       0., 1., 1., 0., 1., 1., 0., 1., 1., 0., 1., 0., 0., 1., 1., 1., 1.,\n",
              "       0., 1., 1., 0., 1., 1., 0., 0., 1., 1., 0., 0., 0., 1., 0., 0., 0.,\n",
              "       1., 0., 0., 1., 1., 1., 0., 0., 0., 0., 0., 1., 0., 0., 1., 0., 0.,\n",
              "       1., 1., 0., 0., 1., 1., 0., 0., 1., 1., 1., 1., 1., 0., 1., 1., 1.,\n",
              "       1., 0., 0., 0., 1., 0., 0., 0., 0., 1., 0., 0., 1., 1., 0., 0., 0.,\n",
              "       1., 0., 1., 1., 0., 1., 0., 1., 0., 0., 1., 0., 1., 1., 1., 0., 0.,\n",
              "       0., 0., 0., 0., 0., 0., 0., 1.])"
            ]
          },
          "execution_count": 32,
          "metadata": {},
          "output_type": "execute_result"
        }
      ],
      "source": [
        "yhat = knn.predict(X_test)\n",
        "yhat"
      ]
    },
    {
      "cell_type": "markdown",
      "id": "f6e83de0",
      "metadata": {
        "id": "f6e83de0"
      },
      "source": [
        "# Perhitungan Akurasi"
      ]
    },
    {
      "cell_type": "code",
      "execution_count": null,
      "id": "83c819ca",
      "metadata": {
        "id": "83c819ca",
        "outputId": "16d35d2e-d1c8-48a0-f05c-6631f87d66a5"
      },
      "outputs": [
        {
          "name": "stdout",
          "output_type": "stream",
          "text": [
            "Train set Accuracy:  0.8027613412228797\n",
            "Test set Accuracy:  0.5669291338582677\n"
          ]
        }
      ],
      "source": [
        "from sklearn import metrics\n",
        "print(\"Train set Accuracy: \", metrics.accuracy_score(y_train, knn.predict(X_train)))\n",
        "print(\"Test set Accuracy: \", metrics.accuracy_score(y_test, yhat))"
      ]
    },
    {
      "cell_type": "markdown",
      "id": "50efe6d0",
      "metadata": {
        "id": "50efe6d0"
      },
      "source": [
        "# MENCARI NILAI TERBAIK"
      ]
    },
    {
      "cell_type": "code",
      "execution_count": null,
      "id": "81e7a978",
      "metadata": {
        "id": "81e7a978",
        "outputId": "a84fb5b8-7237-4407-9ed2-ea29a463dce6"
      },
      "outputs": [
        {
          "data": {
            "text/plain": [
              "array([0.63779528, 0.45669291, 0.56692913, 0.49606299, 0.5984252 ,\n",
              "       0.55905512, 0.65354331, 0.64566929, 0.64566929])"
            ]
          },
          "execution_count": 34,
          "metadata": {},
          "output_type": "execute_result"
        }
      ],
      "source": [
        "from sklearn import metrics\n",
        "Ks = 10\n",
        "mean_acc = np.zeros((Ks-1))\n",
        "std_acc = np.zeros((Ks-1))\n",
        "ConfustionMx = [];\n",
        "for n in range(1,Ks):\n",
        "    \n",
        "    #Train Model and Predict  \n",
        "    neigh = KNeighborsClassifier(n_neighbors = n).fit(X_train,y_train)\n",
        "    yhat=neigh.predict(X_test)\n",
        "    mean_acc[n-1] = metrics.accuracy_score(y_test, yhat)\n",
        "\n",
        "    \n",
        "    std_acc[n-1]=np.std(yhat==y_test)/np.sqrt(yhat.shape[0])\n",
        "\n",
        "mean_acc"
      ]
    },
    {
      "cell_type": "code",
      "execution_count": null,
      "id": "72ddb5f6",
      "metadata": {
        "id": "72ddb5f6",
        "outputId": "7f2c0601-a3ed-4ed6-c9ab-5c00820c01eb"
      },
      "outputs": [
        {
          "data": {
            "text/plain": [
              "127"
            ]
          },
          "execution_count": 35,
          "metadata": {},
          "output_type": "execute_result"
        }
      ],
      "source": [
        "yhat.shape[0]"
      ]
    },
    {
      "cell_type": "markdown",
      "id": "f8d4ae32",
      "metadata": {
        "id": "f8d4ae32"
      },
      "source": [
        "# Grafik/Plot nya"
      ]
    },
    {
      "cell_type": "code",
      "execution_count": null,
      "id": "ca6a60a3",
      "metadata": {
        "id": "ca6a60a3",
        "outputId": "6a6b9177-9bbd-4f2a-c906-ce607336ce0c"
      },
      "outputs": [
        {
          "data": {
            "image/png": "[encoded data removed]",
            "text/plain": [
              "<Figure size 432x288 with 1 Axes>"
            ]
          },
          "metadata": {
            "needs_background": "light"
          },
          "output_type": "display_data"
        }
      ],
      "source": [
        "plt.plot(range(1,Ks),mean_acc,'g')\n",
        "plt.fill_between(range(1,Ks),mean_acc - 1 * std_acc,mean_acc + 1 * std_acc, alpha=0.10)\n",
        "plt.legend(('Accuracy ', '+/- 3xstd'))\n",
        "plt.ylabel('Accuracy ')\n",
        "plt.xlabel('Number of Nabors (K)')\n",
        "plt.tight_layout()\n",
        "plt.show()"
      ]
    },
    {
      "cell_type": "code",
      "execution_count": null,
      "id": "005c00c4",
      "metadata": {
        "id": "005c00c4",
        "outputId": "326c2397-b7f8-49b2-dbba-3173a94b08e6"
      },
      "outputs": [
        {
          "name": "stdout",
          "output_type": "stream",
          "text": [
            "The best accuracy was with 0.6535433070866141 with k= 7\n"
          ]
        }
      ],
      "source": [
        "print( \"The best accuracy was with\", mean_acc.max(), \"with k=\", mean_acc.argmax()+1)"
      ]
    }
  ],
  "metadata": {
    "kernelspec": {
      "display_name": "Python 3 (ipykernel)",
      "language": "python",
      "name": "python3"
    },
    "language_info": {
      "codemirror_mode": {
        "name": "ipython",
        "version": 3
      },
      "file_extension": ".py",
      "mimetype": "text/x-python",
      "name": "python",
      "nbconvert_exporter": "python",
      "pygments_lexer": "ipython3",
      "version": "3.9.7"
    },
    "colab": {
      "name": "K-nn Tugas FGD.ipynb",
      "provenance": [],
      "include_colab_link": true
    }
  },
  "nbformat": 4,
  "nbformat_minor": 5
}